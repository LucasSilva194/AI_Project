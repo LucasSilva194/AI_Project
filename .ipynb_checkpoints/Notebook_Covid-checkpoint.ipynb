{
 "cells": [
  {
   "cell_type": "code",
   "execution_count": 79,
   "id": "e4172df9",
   "metadata": {},
   "outputs": [],
   "source": [
    "import pandas as pd\n",
    "import numpy as np\n",
    "import matplotlib.pyplot as plt\n",
    "import seaborn as sns\n",
    "from sklearn.experimental import enable_iterative_imputer\n",
    "from sklearn.impute import IterativeImputer\n",
    "from sklearn.model_selection import train_test_split\n",
    "from sklearn.metrics import accuracy_score, classification_report\n",
    "from sklearn.ensemble import RandomForestClassifier\n",
    "from sklearn.metrics import confusion_matrix\n",
    "from xgboost import XGBClassifier\n",
    "import warnings"
   ]
  },
  {
   "cell_type": "code",
   "execution_count": 80,
   "id": "a8aa1bce",
   "metadata": {},
   "outputs": [],
   "source": [
    "warnings.filterwarnings(\"ignore\")"
   ]
  },
  {
   "cell_type": "code",
   "execution_count": null,
   "id": "6be18bad",
   "metadata": {},
   "outputs": [],
   "source": [
    "# Load dataset\n",
    "df = pd.read_csv('./covid19.csv')"
   ]
  },
  {
   "cell_type": "code",
   "execution_count": null,
   "id": "b9a4514c",
   "metadata": {},
   "outputs": [],
   "source": [
    "def preprocess_data(df):\n",
    "    # Change 'SEX' to numerical value\n",
    "    sex_mapping = {'female': 0, 'male': 1}\n",
    "    df['SEX'] = df['SEX'].map(sex_mapping)\n",
    "    \n",
    "    # Change 'PATIENT_TYPE' to numerical value\n",
    "    ptype_mapping = {'returned home': 0, 'hospitalization': 1}\n",
    "    df['PATIENT_TYPE'] = df['PATIENT_TYPE'].map(ptype_mapping)\n",
    "    \n",
    "    # Drop rows with NaN values in any column\n",
    "    df_clean = df.dropna()\n",
    "    \n",
    "    # Convert 'DATE_DIED' to binary values\n",
    "    df_clean['DATE_DIED'] = df_clean['DATE_DIED'].apply(lambda x: 0 if x != '9999-99-99' else 1)\n",
    "    \n",
    "    # Imputation using IterativeImputer\n",
    "    imput = IterativeImputer()\n",
    "    missing_icu = df.columns[df.isnull().any() & df.columns.str.contains('ICU')]\n",
    "    df[missing_icu] = imput.fit_transform(df.loc[:,missing_icu])\n",
    "    missing_pregnant = df.columns[df.isnull().any() & df.columns.str.contains('PREGNANT')]\n",
    "    df[missing_pregnant] = imput.fit_transform(df[missing_pregnant])\n",
    "    missing_intubed = df.columns[df.isnull().any() & df.columns.str.contains('INTUBED')]\n",
    "    df[missing_intubed] = imput.fit_transform(df[missing_intubed])\n",
    "    \n",
    "    \n",
    "    return df_clean"
   ]
  },
  {
   "cell_type": "code",
   "execution_count": null,
   "id": "30e3e128",
   "metadata": {},
   "outputs": [],
   "source": [
    "def visualize_data(df):\n",
    "    # Histograms\n",
    "    columns_to_plot = ['AGE', 'SEX', 'ASTHMA', 'CARDIOVASCULAR', 'PATIENT_TYPE', 'ICU', 'CLASIFFICATION_FINAL', 'OTHER_DISEASE']\n",
    "    plt.figure(figsize=(10, 8))\n",
    "    for i, col in enumerate(columns_to_plot, 1):\n",
    "        plt.subplot(3, 3, i)\n",
    "        plt.hist(df[col])\n",
    "        plt.title(col)\n",
    "    \n",
    "    # Correlation heatmap\n",
    "    plt.figure(figsize=(12, 10))\n",
    "    sns.heatmap(df.corr(), annot=True)\n",
    "    plt.title('Correlation Heatmap')"
   ]
  },
  {
   "cell_type": "code",
   "execution_count": null,
   "id": "c6ee7854",
   "metadata": {},
   "outputs": [],
   "source": [
    "def train_random_forest(df):\n",
    "    X = df.drop(['DATE_DIED', 'SEX'], axis=1)\n",
    "    y = df['DATE_DIED']\n",
    "    \n",
    "    X_train, X_test, y_train, y_test = train_test_split(X, y, test_size=0.3, random_state=50, shuffle=True)\n",
    "    \n",
    "    rf = RandomForestClassifier(n_estimators=100, random_state=50)\n",
    "    rf.fit(X_train, y_train)\n",
    "    \n",
    "    rf_pred = rf.predict(X_test)\n",
    "    rf_score = accuracy_score(y_test, rf_pred)\n",
    "    rf_report = classification_report(y_test, rf_pred)\n",
    "    \n",
    "    cm = confusion_matrix(y_test, rf_pred)\n",
    "    plt.figure(figsize=(6, 4))\n",
    "    sns.heatmap(cm, annot=True, fmt=\".6g\")\n",
    "    plt.title('Confusion Matrix')\n",
    "    \n",
    "    return rf_score, rf_report"
   ]
  },
  {
   "cell_type": "code",
   "execution_count": null,
   "id": "3223bd18",
   "metadata": {},
   "outputs": [],
   "source": [
    "def train_xgboost(df):\n",
    "    X = df[['USMER', 'MEDICAL_UNIT', 'SEX', 'PATIENT_TYPE', 'INTUBED', 'PNEUMONIA', 'AGE', 'PREGNANT', 'DIABETES',\n",
    "            'COPD', 'ASTHMA', 'INMSUPR', 'HIPERTENSION', 'OTHER_DISEASE', 'CARDIOVASCULAR', 'OBESITY', 'RENAL_CHRONIC',\n",
    "            'TOBACCO']]\n",
    "    y = df['DATE_DIED']\n",
    "    \n",
    "    X_train, X_test, y_train, y_test = train_test_split(X, y, test_size=0.3, random_state=50, shuffle=True)\n",
    "    \n",
    "    xgb = XGBClassifier()\n",
    "    xgb.fit(X_train, y_train)\n",
    "    \n",
    "    xgb_pred = xgb.predict(X_test)\n",
    "    xgb_score = accuracy_score(y_test, xgb_pred)\n",
    "    xgb_report = classification_report(y_test, xgb_pred)\n",
    "    \n",
    "    cm = confusion_matrix(y_test, xgb_pred)\n",
    "    plt.figure(figsize=(6, 4))\n",
    "    sns.heatmap(cm, annot=True, fmt=\".6g\")\n",
    "    plt.title('Confusion Matrix')\n",
    "    \n",
    "    return xgb_score, xgb_report"
   ]
  },
  {
   "cell_type": "code",
   "execution_count": null,
   "id": "a6aa031c",
   "metadata": {},
   "outputs": [],
   "source": [
    "def check_nan(df):\n",
    "    nan_columns = df.columns[df.isna().any()].tolist()\n",
    "    nan_count = df.isna().sum().to_frame('Count').sort_values('Count', ascending=False)\n",
    "    nan_percentage = (nan_count / len(df)) * 100\n",
    "    nan_percentage.columns = ['Percentage']\n",
    "    \n",
    "    print(\"Columns with NaN values:\")\n",
    "    print(nan_columns)\n",
    "    print(\"\\nNaN Value Count:\")\n",
    "    print(nan_count)\n",
    "    print(\"\\nNaN Value Percentage:\")\n",
    "    print(nan_percentage)"
   ]
  },
  {
   "cell_type": "code",
   "execution_count": null,
   "id": "5cfe1b88",
   "metadata": {},
   "outputs": [],
   "source": [
    "check_nan(df)"
   ]
  },
  {
   "cell_type": "code",
   "execution_count": null,
   "id": "399c17e6",
   "metadata": {},
   "outputs": [],
   "source": [
    "# Preprocess data\n",
    "df_clean = preprocess_data(df)"
   ]
  },
  {
   "cell_type": "code",
   "execution_count": null,
   "id": "9c66395f",
   "metadata": {},
   "outputs": [],
   "source": [
    "# Visualize data\n",
    "visualize_data(df_clean)"
   ]
  },
  {
   "cell_type": "code",
   "execution_count": null,
   "id": "1e23753c",
   "metadata": {
    "scrolled": false
   },
   "outputs": [],
   "source": [
    "# Train and evaluate Random Forest model\n",
    "rf_score, rf_report = train_random_forest(df_clean)\n",
    "print(\"Random Forest Accuracy:\", rf_score)\n",
    "print(\"Random Forest Report:\")\n",
    "print(rf_report)"
   ]
  },
  {
   "cell_type": "code",
   "execution_count": null,
   "id": "3bf54d81",
   "metadata": {},
   "outputs": [],
   "source": [
    "# Train and evaluate XGBoost model\n",
    "xgb_score, xgb_report = train_xgboost(df_clean)\n",
    "print(\"XGBoost Accuracy:\", xgb_score)\n",
    "print(\"XGBoost Report:\")\n",
    "print(xgb_report)"
   ]
  },
  {
   "cell_type": "code",
   "execution_count": null,
   "id": "65cd40e3",
   "metadata": {},
   "outputs": [],
   "source": []
  },
  {
   "cell_type": "code",
   "execution_count": null,
   "id": "12efaff3",
   "metadata": {},
   "outputs": [],
   "source": []
  },
  {
   "cell_type": "code",
   "execution_count": null,
   "id": "24bc2189",
   "metadata": {},
   "outputs": [],
   "source": []
  }
 ],
 "metadata": {
  "kernelspec": {
   "display_name": "Python 3 (ipykernel)",
   "language": "python",
   "name": "python3"
  },
  "language_info": {
   "codemirror_mode": {
    "name": "ipython",
    "version": 3
   },
   "file_extension": ".py",
   "mimetype": "text/x-python",
   "name": "python",
   "nbconvert_exporter": "python",
   "pygments_lexer": "ipython3",
   "version": "3.7.6"
  }
 },
 "nbformat": 4,
 "nbformat_minor": 5
}
