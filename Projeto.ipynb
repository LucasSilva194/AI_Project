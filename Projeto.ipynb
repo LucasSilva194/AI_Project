{
 "cells": [
  {
   "cell_type": "markdown",
   "id": "8b337183",
   "metadata": {},
   "source": [
    "# Covid-19 Data Analysis"
   ]
  },
  {
   "cell_type": "markdown",
   "id": "174373d8",
   "metadata": {},
   "source": [
    "## Dataset Information\n",
    "\n",
    "This dataset contains anonymized patient-related information including health pre-conditions. \n",
    "It contains 21 features and 1,048,575 unique patients. In the Boolean features, 1 means \"yes\" and 2 means \"no\".\n",
    "\n",
    "    usmer: Indicates whether the patient treated medical units of the first, second or third level.\n",
    "    medical unit: type of institution of the National Health System that provided the care.\n",
    "    sex: gender of the patient.\n",
    "    patient type: wether the patient returned home or headed for hospitalization.\n",
    "    date died: If the patient died indicate the date of death, and 9999-99-99 otherwise.\n",
    "    intubed: whether the patient was connected to the ventilator.\n",
    "    pneumonia: whether the patient already have air sacs inflammation or not.\n",
    "    age: of the patient.\n",
    "    pregnant: whether the patient is pregnant or not.\n",
    "    diabetes: whether the patient has diabetes or not.\n",
    "    copd: Indicates whether the patient has Chronic obstructive pulmonary disease or not.\n",
    "    asthma: whether the patient has asthma or not.\n",
    "    inmsupr: whether the patient is immunosuppressed or not.\n",
    "    hypertension: whether the patient has hypertension or not.\n",
    "    other disease: whether the patient has other disease or not.\n",
    "    cardiovascular: whether the patient has heart or blood vessels related disease.\n",
    "    obesity: whether the patient is obese or not.\n",
    "    renal chronic: whether the patient has chronic renal disease or not.\n",
    "    tobacco: whether the patient is a tobacco user.\n",
    "    classification: covid test findings. Values 1-3 mean that the patient was diagnosed with covid in different degrees. 4 or higher means that the patient is not a carrier of covid or that the test is inconclusive.\n",
    "    icu: Indicates whether the patient had been admitted to an Intensive Care Unit.\n",
    "\n"
   ]
  },
  {
   "cell_type": "markdown",
   "id": "e2d25428",
   "metadata": {},
   "source": [
    "### Imports"
   ]
  },
  {
   "cell_type": "code",
   "execution_count": 1,
   "id": "29d66089",
   "metadata": {},
   "outputs": [
    {
     "name": "stdout",
     "output_type": "stream",
     "text": [
      "Intel MKL WARNING: Support of Intel(R) Streaming SIMD Extensions 4.2 (Intel(R) SSE4.2) enabled only processors has been deprecated. Intel oneAPI Math Kernel Library 2025.0 will require Intel(R) Advanced Vector Extensions (Intel(R) AVX) instructions.\n",
      "Intel MKL WARNING: Support of Intel(R) Streaming SIMD Extensions 4.2 (Intel(R) SSE4.2) enabled only processors has been deprecated. Intel oneAPI Math Kernel Library 2025.0 will require Intel(R) Advanced Vector Extensions (Intel(R) AVX) instructions.\n"
     ]
    }
   ],
   "source": [
    "import pandas as pd\n",
    "import numpy as np\n",
    "import matplotlib.pyplot as plt\n",
    "import seaborn as sns\n",
    "from sklearn.experimental import enable_iterative_imputer\n",
    "from sklearn.impute import IterativeImputer\n",
    "from sklearn.model_selection import train_test_split\n",
    "from sklearn.metrics import accuracy_score, classification_report\n",
    "from sklearn.ensemble import RandomForestClassifier\n",
    "from sklearn.metrics import confusion_matrix\n",
    "from xgboost import XGBClassifier\n",
    "import warnings"
   ]
  },
  {
   "cell_type": "code",
   "execution_count": 2,
   "id": "ff0251ef",
   "metadata": {},
   "outputs": [],
   "source": [
    "warnings.filterwarnings(\"ignore\")"
   ]
  },
  {
   "cell_type": "markdown",
   "id": "f5b7d11d",
   "metadata": {},
   "source": [
    "### Import dataset"
   ]
  },
  {
   "cell_type": "code",
   "execution_count": 3,
   "id": "209e10d0",
   "metadata": {},
   "outputs": [],
   "source": [
    "df = pd.read_csv('./covid19.csv')"
   ]
  },
  {
   "cell_type": "code",
   "execution_count": 4,
   "id": "cecd2e83",
   "metadata": {
    "scrolled": true
   },
   "outputs": [
    {
     "data": {
      "text/html": [
       "<div>\n",
       "<style scoped>\n",
       "    .dataframe tbody tr th:only-of-type {\n",
       "        vertical-align: middle;\n",
       "    }\n",
       "\n",
       "    .dataframe tbody tr th {\n",
       "        vertical-align: top;\n",
       "    }\n",
       "\n",
       "    .dataframe thead th {\n",
       "        text-align: right;\n",
       "    }\n",
       "</style>\n",
       "<table border=\"1\" class=\"dataframe\">\n",
       "  <thead>\n",
       "    <tr style=\"text-align: right;\">\n",
       "      <th></th>\n",
       "      <th>USMER</th>\n",
       "      <th>MEDICAL_UNIT</th>\n",
       "      <th>SEX</th>\n",
       "      <th>PATIENT_TYPE</th>\n",
       "      <th>DATE_DIED</th>\n",
       "      <th>INTUBED</th>\n",
       "      <th>PNEUMONIA</th>\n",
       "      <th>AGE</th>\n",
       "      <th>PREGNANT</th>\n",
       "      <th>DIABETES</th>\n",
       "      <th>...</th>\n",
       "      <th>ASTHMA</th>\n",
       "      <th>INMSUPR</th>\n",
       "      <th>HIPERTENSION</th>\n",
       "      <th>OTHER_DISEASE</th>\n",
       "      <th>CARDIOVASCULAR</th>\n",
       "      <th>OBESITY</th>\n",
       "      <th>RENAL_CHRONIC</th>\n",
       "      <th>TOBACCO</th>\n",
       "      <th>CLASIFFICATION_FINAL</th>\n",
       "      <th>ICU</th>\n",
       "    </tr>\n",
       "  </thead>\n",
       "  <tbody>\n",
       "    <tr>\n",
       "      <th>0</th>\n",
       "      <td>2</td>\n",
       "      <td>1</td>\n",
       "      <td>female</td>\n",
       "      <td>returned home</td>\n",
       "      <td>03/05/2020</td>\n",
       "      <td>NaN</td>\n",
       "      <td>1.0</td>\n",
       "      <td>65</td>\n",
       "      <td>2.0</td>\n",
       "      <td>2.0</td>\n",
       "      <td>...</td>\n",
       "      <td>2.0</td>\n",
       "      <td>2.0</td>\n",
       "      <td>1.0</td>\n",
       "      <td>2.0</td>\n",
       "      <td>2.0</td>\n",
       "      <td>2.0</td>\n",
       "      <td>2.0</td>\n",
       "      <td>2.0</td>\n",
       "      <td>3</td>\n",
       "      <td>NaN</td>\n",
       "    </tr>\n",
       "    <tr>\n",
       "      <th>1</th>\n",
       "      <td>2</td>\n",
       "      <td>1</td>\n",
       "      <td>male</td>\n",
       "      <td>returned home</td>\n",
       "      <td>03/06/2020</td>\n",
       "      <td>NaN</td>\n",
       "      <td>1.0</td>\n",
       "      <td>72</td>\n",
       "      <td>NaN</td>\n",
       "      <td>2.0</td>\n",
       "      <td>...</td>\n",
       "      <td>2.0</td>\n",
       "      <td>2.0</td>\n",
       "      <td>1.0</td>\n",
       "      <td>2.0</td>\n",
       "      <td>2.0</td>\n",
       "      <td>1.0</td>\n",
       "      <td>1.0</td>\n",
       "      <td>2.0</td>\n",
       "      <td>5</td>\n",
       "      <td>NaN</td>\n",
       "    </tr>\n",
       "    <tr>\n",
       "      <th>2</th>\n",
       "      <td>2</td>\n",
       "      <td>1</td>\n",
       "      <td>male</td>\n",
       "      <td>hospitalization</td>\n",
       "      <td>09/06/2020</td>\n",
       "      <td>1.0</td>\n",
       "      <td>2.0</td>\n",
       "      <td>55</td>\n",
       "      <td>NaN</td>\n",
       "      <td>1.0</td>\n",
       "      <td>...</td>\n",
       "      <td>2.0</td>\n",
       "      <td>2.0</td>\n",
       "      <td>2.0</td>\n",
       "      <td>2.0</td>\n",
       "      <td>2.0</td>\n",
       "      <td>2.0</td>\n",
       "      <td>2.0</td>\n",
       "      <td>2.0</td>\n",
       "      <td>3</td>\n",
       "      <td>2.0</td>\n",
       "    </tr>\n",
       "    <tr>\n",
       "      <th>3</th>\n",
       "      <td>2</td>\n",
       "      <td>1</td>\n",
       "      <td>female</td>\n",
       "      <td>returned home</td>\n",
       "      <td>12/06/2020</td>\n",
       "      <td>NaN</td>\n",
       "      <td>2.0</td>\n",
       "      <td>53</td>\n",
       "      <td>2.0</td>\n",
       "      <td>2.0</td>\n",
       "      <td>...</td>\n",
       "      <td>2.0</td>\n",
       "      <td>2.0</td>\n",
       "      <td>2.0</td>\n",
       "      <td>2.0</td>\n",
       "      <td>2.0</td>\n",
       "      <td>2.0</td>\n",
       "      <td>2.0</td>\n",
       "      <td>2.0</td>\n",
       "      <td>7</td>\n",
       "      <td>NaN</td>\n",
       "    </tr>\n",
       "    <tr>\n",
       "      <th>4</th>\n",
       "      <td>2</td>\n",
       "      <td>1</td>\n",
       "      <td>male</td>\n",
       "      <td>returned home</td>\n",
       "      <td>21/06/2020</td>\n",
       "      <td>NaN</td>\n",
       "      <td>2.0</td>\n",
       "      <td>68</td>\n",
       "      <td>NaN</td>\n",
       "      <td>1.0</td>\n",
       "      <td>...</td>\n",
       "      <td>2.0</td>\n",
       "      <td>2.0</td>\n",
       "      <td>1.0</td>\n",
       "      <td>2.0</td>\n",
       "      <td>2.0</td>\n",
       "      <td>2.0</td>\n",
       "      <td>2.0</td>\n",
       "      <td>2.0</td>\n",
       "      <td>3</td>\n",
       "      <td>NaN</td>\n",
       "    </tr>\n",
       "  </tbody>\n",
       "</table>\n",
       "<p>5 rows × 21 columns</p>\n",
       "</div>"
      ],
      "text/plain": [
       "   USMER  MEDICAL_UNIT     SEX     PATIENT_TYPE   DATE_DIED  INTUBED  \\\n",
       "0      2             1  female    returned home  03/05/2020      NaN   \n",
       "1      2             1    male    returned home  03/06/2020      NaN   \n",
       "2      2             1    male  hospitalization  09/06/2020      1.0   \n",
       "3      2             1  female    returned home  12/06/2020      NaN   \n",
       "4      2             1    male    returned home  21/06/2020      NaN   \n",
       "\n",
       "   PNEUMONIA  AGE  PREGNANT  DIABETES  ...  ASTHMA  INMSUPR  HIPERTENSION  \\\n",
       "0        1.0   65       2.0       2.0  ...     2.0      2.0           1.0   \n",
       "1        1.0   72       NaN       2.0  ...     2.0      2.0           1.0   \n",
       "2        2.0   55       NaN       1.0  ...     2.0      2.0           2.0   \n",
       "3        2.0   53       2.0       2.0  ...     2.0      2.0           2.0   \n",
       "4        2.0   68       NaN       1.0  ...     2.0      2.0           1.0   \n",
       "\n",
       "   OTHER_DISEASE  CARDIOVASCULAR  OBESITY  RENAL_CHRONIC  TOBACCO  \\\n",
       "0            2.0             2.0      2.0            2.0      2.0   \n",
       "1            2.0             2.0      1.0            1.0      2.0   \n",
       "2            2.0             2.0      2.0            2.0      2.0   \n",
       "3            2.0             2.0      2.0            2.0      2.0   \n",
       "4            2.0             2.0      2.0            2.0      2.0   \n",
       "\n",
       "   CLASIFFICATION_FINAL  ICU  \n",
       "0                     3  NaN  \n",
       "1                     5  NaN  \n",
       "2                     3  2.0  \n",
       "3                     7  NaN  \n",
       "4                     3  NaN  \n",
       "\n",
       "[5 rows x 21 columns]"
      ]
     },
     "execution_count": 4,
     "metadata": {},
     "output_type": "execute_result"
    }
   ],
   "source": [
    "df.head()"
   ]
  },
  {
   "cell_type": "code",
   "execution_count": 5,
   "id": "520a3c33",
   "metadata": {},
   "outputs": [
    {
     "data": {
      "text/html": [
       "<div>\n",
       "<style scoped>\n",
       "    .dataframe tbody tr th:only-of-type {\n",
       "        vertical-align: middle;\n",
       "    }\n",
       "\n",
       "    .dataframe tbody tr th {\n",
       "        vertical-align: top;\n",
       "    }\n",
       "\n",
       "    .dataframe thead th {\n",
       "        text-align: right;\n",
       "    }\n",
       "</style>\n",
       "<table border=\"1\" class=\"dataframe\">\n",
       "  <thead>\n",
       "    <tr style=\"text-align: right;\">\n",
       "      <th></th>\n",
       "      <th>USMER</th>\n",
       "      <th>MEDICAL_UNIT</th>\n",
       "      <th>INTUBED</th>\n",
       "      <th>PNEUMONIA</th>\n",
       "      <th>AGE</th>\n",
       "      <th>PREGNANT</th>\n",
       "      <th>DIABETES</th>\n",
       "      <th>COPD</th>\n",
       "      <th>ASTHMA</th>\n",
       "      <th>INMSUPR</th>\n",
       "      <th>HIPERTENSION</th>\n",
       "      <th>OTHER_DISEASE</th>\n",
       "      <th>CARDIOVASCULAR</th>\n",
       "      <th>OBESITY</th>\n",
       "      <th>RENAL_CHRONIC</th>\n",
       "      <th>TOBACCO</th>\n",
       "      <th>CLASIFFICATION_FINAL</th>\n",
       "      <th>ICU</th>\n",
       "    </tr>\n",
       "  </thead>\n",
       "  <tbody>\n",
       "    <tr>\n",
       "      <th>count</th>\n",
       "      <td>1.048575e+06</td>\n",
       "      <td>1.048575e+06</td>\n",
       "      <td>192706.000000</td>\n",
       "      <td>1.032572e+06</td>\n",
       "      <td>1.048575e+06</td>\n",
       "      <td>521310.000000</td>\n",
       "      <td>1.045237e+06</td>\n",
       "      <td>1.045572e+06</td>\n",
       "      <td>1.045596e+06</td>\n",
       "      <td>1.045171e+06</td>\n",
       "      <td>1.045471e+06</td>\n",
       "      <td>1.043530e+06</td>\n",
       "      <td>1.045499e+06</td>\n",
       "      <td>1.045543e+06</td>\n",
       "      <td>1.045569e+06</td>\n",
       "      <td>1.045355e+06</td>\n",
       "      <td>1.048575e+06</td>\n",
       "      <td>192543.000000</td>\n",
       "    </tr>\n",
       "    <tr>\n",
       "      <th>mean</th>\n",
       "      <td>1.632194e+00</td>\n",
       "      <td>8.980565e+00</td>\n",
       "      <td>1.825351</td>\n",
       "      <td>1.864379e+00</td>\n",
       "      <td>4.179410e+01</td>\n",
       "      <td>1.984403</td>\n",
       "      <td>1.880420e+00</td>\n",
       "      <td>1.985594e+00</td>\n",
       "      <td>1.969805e+00</td>\n",
       "      <td>1.986442e+00</td>\n",
       "      <td>1.844349e+00</td>\n",
       "      <td>1.973130e+00</td>\n",
       "      <td>1.980135e+00</td>\n",
       "      <td>1.847145e+00</td>\n",
       "      <td>1.981920e+00</td>\n",
       "      <td>1.919285e+00</td>\n",
       "      <td>5.305653e+00</td>\n",
       "      <td>1.912446</td>\n",
       "    </tr>\n",
       "    <tr>\n",
       "      <th>std</th>\n",
       "      <td>4.822084e-01</td>\n",
       "      <td>3.723278e+00</td>\n",
       "      <td>0.379668</td>\n",
       "      <td>3.423854e-01</td>\n",
       "      <td>1.690739e+01</td>\n",
       "      <td>0.123911</td>\n",
       "      <td>3.244694e-01</td>\n",
       "      <td>1.191554e-01</td>\n",
       "      <td>1.711242e-01</td>\n",
       "      <td>1.156451e-01</td>\n",
       "      <td>3.625247e-01</td>\n",
       "      <td>1.617045e-01</td>\n",
       "      <td>1.395369e-01</td>\n",
       "      <td>3.598474e-01</td>\n",
       "      <td>1.332413e-01</td>\n",
       "      <td>2.723973e-01</td>\n",
       "      <td>1.881165e+00</td>\n",
       "      <td>0.282647</td>\n",
       "    </tr>\n",
       "    <tr>\n",
       "      <th>min</th>\n",
       "      <td>1.000000e+00</td>\n",
       "      <td>1.000000e+00</td>\n",
       "      <td>1.000000</td>\n",
       "      <td>1.000000e+00</td>\n",
       "      <td>0.000000e+00</td>\n",
       "      <td>1.000000</td>\n",
       "      <td>1.000000e+00</td>\n",
       "      <td>1.000000e+00</td>\n",
       "      <td>1.000000e+00</td>\n",
       "      <td>1.000000e+00</td>\n",
       "      <td>1.000000e+00</td>\n",
       "      <td>1.000000e+00</td>\n",
       "      <td>1.000000e+00</td>\n",
       "      <td>1.000000e+00</td>\n",
       "      <td>1.000000e+00</td>\n",
       "      <td>1.000000e+00</td>\n",
       "      <td>1.000000e+00</td>\n",
       "      <td>1.000000</td>\n",
       "    </tr>\n",
       "    <tr>\n",
       "      <th>25%</th>\n",
       "      <td>1.000000e+00</td>\n",
       "      <td>4.000000e+00</td>\n",
       "      <td>2.000000</td>\n",
       "      <td>2.000000e+00</td>\n",
       "      <td>3.000000e+01</td>\n",
       "      <td>2.000000</td>\n",
       "      <td>2.000000e+00</td>\n",
       "      <td>2.000000e+00</td>\n",
       "      <td>2.000000e+00</td>\n",
       "      <td>2.000000e+00</td>\n",
       "      <td>2.000000e+00</td>\n",
       "      <td>2.000000e+00</td>\n",
       "      <td>2.000000e+00</td>\n",
       "      <td>2.000000e+00</td>\n",
       "      <td>2.000000e+00</td>\n",
       "      <td>2.000000e+00</td>\n",
       "      <td>3.000000e+00</td>\n",
       "      <td>2.000000</td>\n",
       "    </tr>\n",
       "    <tr>\n",
       "      <th>50%</th>\n",
       "      <td>2.000000e+00</td>\n",
       "      <td>1.200000e+01</td>\n",
       "      <td>2.000000</td>\n",
       "      <td>2.000000e+00</td>\n",
       "      <td>4.000000e+01</td>\n",
       "      <td>2.000000</td>\n",
       "      <td>2.000000e+00</td>\n",
       "      <td>2.000000e+00</td>\n",
       "      <td>2.000000e+00</td>\n",
       "      <td>2.000000e+00</td>\n",
       "      <td>2.000000e+00</td>\n",
       "      <td>2.000000e+00</td>\n",
       "      <td>2.000000e+00</td>\n",
       "      <td>2.000000e+00</td>\n",
       "      <td>2.000000e+00</td>\n",
       "      <td>2.000000e+00</td>\n",
       "      <td>6.000000e+00</td>\n",
       "      <td>2.000000</td>\n",
       "    </tr>\n",
       "    <tr>\n",
       "      <th>75%</th>\n",
       "      <td>2.000000e+00</td>\n",
       "      <td>1.200000e+01</td>\n",
       "      <td>2.000000</td>\n",
       "      <td>2.000000e+00</td>\n",
       "      <td>5.300000e+01</td>\n",
       "      <td>2.000000</td>\n",
       "      <td>2.000000e+00</td>\n",
       "      <td>2.000000e+00</td>\n",
       "      <td>2.000000e+00</td>\n",
       "      <td>2.000000e+00</td>\n",
       "      <td>2.000000e+00</td>\n",
       "      <td>2.000000e+00</td>\n",
       "      <td>2.000000e+00</td>\n",
       "      <td>2.000000e+00</td>\n",
       "      <td>2.000000e+00</td>\n",
       "      <td>2.000000e+00</td>\n",
       "      <td>7.000000e+00</td>\n",
       "      <td>2.000000</td>\n",
       "    </tr>\n",
       "    <tr>\n",
       "      <th>max</th>\n",
       "      <td>2.000000e+00</td>\n",
       "      <td>1.300000e+01</td>\n",
       "      <td>2.000000</td>\n",
       "      <td>2.000000e+00</td>\n",
       "      <td>1.210000e+02</td>\n",
       "      <td>2.000000</td>\n",
       "      <td>2.000000e+00</td>\n",
       "      <td>2.000000e+00</td>\n",
       "      <td>2.000000e+00</td>\n",
       "      <td>2.000000e+00</td>\n",
       "      <td>2.000000e+00</td>\n",
       "      <td>2.000000e+00</td>\n",
       "      <td>2.000000e+00</td>\n",
       "      <td>2.000000e+00</td>\n",
       "      <td>2.000000e+00</td>\n",
       "      <td>2.000000e+00</td>\n",
       "      <td>7.000000e+00</td>\n",
       "      <td>2.000000</td>\n",
       "    </tr>\n",
       "  </tbody>\n",
       "</table>\n",
       "</div>"
      ],
      "text/plain": [
       "              USMER  MEDICAL_UNIT        INTUBED     PNEUMONIA           AGE  \\\n",
       "count  1.048575e+06  1.048575e+06  192706.000000  1.032572e+06  1.048575e+06   \n",
       "mean   1.632194e+00  8.980565e+00       1.825351  1.864379e+00  4.179410e+01   \n",
       "std    4.822084e-01  3.723278e+00       0.379668  3.423854e-01  1.690739e+01   \n",
       "min    1.000000e+00  1.000000e+00       1.000000  1.000000e+00  0.000000e+00   \n",
       "25%    1.000000e+00  4.000000e+00       2.000000  2.000000e+00  3.000000e+01   \n",
       "50%    2.000000e+00  1.200000e+01       2.000000  2.000000e+00  4.000000e+01   \n",
       "75%    2.000000e+00  1.200000e+01       2.000000  2.000000e+00  5.300000e+01   \n",
       "max    2.000000e+00  1.300000e+01       2.000000  2.000000e+00  1.210000e+02   \n",
       "\n",
       "            PREGNANT      DIABETES          COPD        ASTHMA       INMSUPR  \\\n",
       "count  521310.000000  1.045237e+06  1.045572e+06  1.045596e+06  1.045171e+06   \n",
       "mean        1.984403  1.880420e+00  1.985594e+00  1.969805e+00  1.986442e+00   \n",
       "std         0.123911  3.244694e-01  1.191554e-01  1.711242e-01  1.156451e-01   \n",
       "min         1.000000  1.000000e+00  1.000000e+00  1.000000e+00  1.000000e+00   \n",
       "25%         2.000000  2.000000e+00  2.000000e+00  2.000000e+00  2.000000e+00   \n",
       "50%         2.000000  2.000000e+00  2.000000e+00  2.000000e+00  2.000000e+00   \n",
       "75%         2.000000  2.000000e+00  2.000000e+00  2.000000e+00  2.000000e+00   \n",
       "max         2.000000  2.000000e+00  2.000000e+00  2.000000e+00  2.000000e+00   \n",
       "\n",
       "       HIPERTENSION  OTHER_DISEASE  CARDIOVASCULAR       OBESITY  \\\n",
       "count  1.045471e+06   1.043530e+06    1.045499e+06  1.045543e+06   \n",
       "mean   1.844349e+00   1.973130e+00    1.980135e+00  1.847145e+00   \n",
       "std    3.625247e-01   1.617045e-01    1.395369e-01  3.598474e-01   \n",
       "min    1.000000e+00   1.000000e+00    1.000000e+00  1.000000e+00   \n",
       "25%    2.000000e+00   2.000000e+00    2.000000e+00  2.000000e+00   \n",
       "50%    2.000000e+00   2.000000e+00    2.000000e+00  2.000000e+00   \n",
       "75%    2.000000e+00   2.000000e+00    2.000000e+00  2.000000e+00   \n",
       "max    2.000000e+00   2.000000e+00    2.000000e+00  2.000000e+00   \n",
       "\n",
       "       RENAL_CHRONIC       TOBACCO  CLASIFFICATION_FINAL            ICU  \n",
       "count   1.045569e+06  1.045355e+06          1.048575e+06  192543.000000  \n",
       "mean    1.981920e+00  1.919285e+00          5.305653e+00       1.912446  \n",
       "std     1.332413e-01  2.723973e-01          1.881165e+00       0.282647  \n",
       "min     1.000000e+00  1.000000e+00          1.000000e+00       1.000000  \n",
       "25%     2.000000e+00  2.000000e+00          3.000000e+00       2.000000  \n",
       "50%     2.000000e+00  2.000000e+00          6.000000e+00       2.000000  \n",
       "75%     2.000000e+00  2.000000e+00          7.000000e+00       2.000000  \n",
       "max     2.000000e+00  2.000000e+00          7.000000e+00       2.000000  "
      ]
     },
     "execution_count": 5,
     "metadata": {},
     "output_type": "execute_result"
    },
    {
     "data": {
      "image/png": "[encoded data removed]",
      "text/plain": [
       "<Figure size 640x480 with 1 Axes>"
      ]
     },
     "metadata": {},
     "output_type": "display_data"
    }
   ],
   "source": [
    "plt.hist(df[\"CARDIOVASCULAR\"]);df.describe()"
   ]
  },
  {
   "cell_type": "code",
   "execution_count": 6,
   "id": "d81ef6f4",
   "metadata": {},
   "outputs": [
    {
     "data": {
      "text/plain": [
       "Index(['USMER', 'MEDICAL_UNIT', 'SEX', 'PATIENT_TYPE', 'DATE_DIED', 'INTUBED',\n",
       "       'PNEUMONIA', 'AGE', 'PREGNANT', 'DIABETES', 'COPD', 'ASTHMA', 'INMSUPR',\n",
       "       'HIPERTENSION', 'OTHER_DISEASE', 'CARDIOVASCULAR', 'OBESITY',\n",
       "       'RENAL_CHRONIC', 'TOBACCO', 'CLASIFFICATION_FINAL', 'ICU'],\n",
       "      dtype='object')"
      ]
     },
     "execution_count": 6,
     "metadata": {},
     "output_type": "execute_result"
    }
   ],
   "source": [
    "col_names = df.columns\n",
    "col_names"
   ]
  },
  {
   "cell_type": "code",
   "execution_count": 7,
   "id": "1756d16b",
   "metadata": {},
   "outputs": [
    {
     "data": {
      "text/plain": [
       "array(['female', 'male'], dtype=object)"
      ]
     },
     "execution_count": 7,
     "metadata": {},
     "output_type": "execute_result"
    }
   ],
   "source": [
    "sex_values = df['SEX'].unique()\n",
    "sex_values"
   ]
  },
  {
   "cell_type": "markdown",
   "id": "b6faf4e6",
   "metadata": {},
   "source": [
    "### Change 'SEX' to numerical value"
   ]
  },
  {
   "cell_type": "code",
   "execution_count": 8,
   "id": "9ea3a6b5",
   "metadata": {},
   "outputs": [],
   "source": [
    "sex_mapping = {\n",
    "    'female': 0,\n",
    "    'male': 1\n",
    "}"
   ]
  },
  {
   "cell_type": "code",
   "execution_count": 9,
   "id": "19c5ed95",
   "metadata": {},
   "outputs": [],
   "source": [
    "df['SEX'] = df['SEX'].map(sex_mapping)"
   ]
  },
  {
   "cell_type": "code",
   "execution_count": 10,
   "id": "f71a2a55",
   "metadata": {},
   "outputs": [
    {
     "data": {
      "text/html": [
       "<div>\n",
       "<style scoped>\n",
       "    .dataframe tbody tr th:only-of-type {\n",
       "        vertical-align: middle;\n",
       "    }\n",
       "\n",
       "    .dataframe tbody tr th {\n",
       "        vertical-align: top;\n",
       "    }\n",
       "\n",
       "    .dataframe thead th {\n",
       "        text-align: right;\n",
       "    }\n",
       "</style>\n",
       "<table border=\"1\" class=\"dataframe\">\n",
       "  <thead>\n",
       "    <tr style=\"text-align: right;\">\n",
       "      <th></th>\n",
       "      <th>USMER</th>\n",
       "      <th>MEDICAL_UNIT</th>\n",
       "      <th>SEX</th>\n",
       "      <th>PATIENT_TYPE</th>\n",
       "      <th>DATE_DIED</th>\n",
       "      <th>INTUBED</th>\n",
       "      <th>PNEUMONIA</th>\n",
       "      <th>AGE</th>\n",
       "      <th>PREGNANT</th>\n",
       "      <th>DIABETES</th>\n",
       "      <th>...</th>\n",
       "      <th>ASTHMA</th>\n",
       "      <th>INMSUPR</th>\n",
       "      <th>HIPERTENSION</th>\n",
       "      <th>OTHER_DISEASE</th>\n",
       "      <th>CARDIOVASCULAR</th>\n",
       "      <th>OBESITY</th>\n",
       "      <th>RENAL_CHRONIC</th>\n",
       "      <th>TOBACCO</th>\n",
       "      <th>CLASIFFICATION_FINAL</th>\n",
       "      <th>ICU</th>\n",
       "    </tr>\n",
       "  </thead>\n",
       "  <tbody>\n",
       "    <tr>\n",
       "      <th>0</th>\n",
       "      <td>2</td>\n",
       "      <td>1</td>\n",
       "      <td>0</td>\n",
       "      <td>returned home</td>\n",
       "      <td>03/05/2020</td>\n",
       "      <td>NaN</td>\n",
       "      <td>1.0</td>\n",
       "      <td>65</td>\n",
       "      <td>2.0</td>\n",
       "      <td>2.0</td>\n",
       "      <td>...</td>\n",
       "      <td>2.0</td>\n",
       "      <td>2.0</td>\n",
       "      <td>1.0</td>\n",
       "      <td>2.0</td>\n",
       "      <td>2.0</td>\n",
       "      <td>2.0</td>\n",
       "      <td>2.0</td>\n",
       "      <td>2.0</td>\n",
       "      <td>3</td>\n",
       "      <td>NaN</td>\n",
       "    </tr>\n",
       "    <tr>\n",
       "      <th>1</th>\n",
       "      <td>2</td>\n",
       "      <td>1</td>\n",
       "      <td>1</td>\n",
       "      <td>returned home</td>\n",
       "      <td>03/06/2020</td>\n",
       "      <td>NaN</td>\n",
       "      <td>1.0</td>\n",
       "      <td>72</td>\n",
       "      <td>NaN</td>\n",
       "      <td>2.0</td>\n",
       "      <td>...</td>\n",
       "      <td>2.0</td>\n",
       "      <td>2.0</td>\n",
       "      <td>1.0</td>\n",
       "      <td>2.0</td>\n",
       "      <td>2.0</td>\n",
       "      <td>1.0</td>\n",
       "      <td>1.0</td>\n",
       "      <td>2.0</td>\n",
       "      <td>5</td>\n",
       "      <td>NaN</td>\n",
       "    </tr>\n",
       "    <tr>\n",
       "      <th>2</th>\n",
       "      <td>2</td>\n",
       "      <td>1</td>\n",
       "      <td>1</td>\n",
       "      <td>hospitalization</td>\n",
       "      <td>09/06/2020</td>\n",
       "      <td>1.0</td>\n",
       "      <td>2.0</td>\n",
       "      <td>55</td>\n",
       "      <td>NaN</td>\n",
       "      <td>1.0</td>\n",
       "      <td>...</td>\n",
       "      <td>2.0</td>\n",
       "      <td>2.0</td>\n",
       "      <td>2.0</td>\n",
       "      <td>2.0</td>\n",
       "      <td>2.0</td>\n",
       "      <td>2.0</td>\n",
       "      <td>2.0</td>\n",
       "      <td>2.0</td>\n",
       "      <td>3</td>\n",
       "      <td>2.0</td>\n",
       "    </tr>\n",
       "    <tr>\n",
       "      <th>3</th>\n",
       "      <td>2</td>\n",
       "      <td>1</td>\n",
       "      <td>0</td>\n",
       "      <td>returned home</td>\n",
       "      <td>12/06/2020</td>\n",
       "      <td>NaN</td>\n",
       "      <td>2.0</td>\n",
       "      <td>53</td>\n",
       "      <td>2.0</td>\n",
       "      <td>2.0</td>\n",
       "      <td>...</td>\n",
       "      <td>2.0</td>\n",
       "      <td>2.0</td>\n",
       "      <td>2.0</td>\n",
       "      <td>2.0</td>\n",
       "      <td>2.0</td>\n",
       "      <td>2.0</td>\n",
       "      <td>2.0</td>\n",
       "      <td>2.0</td>\n",
       "      <td>7</td>\n",
       "      <td>NaN</td>\n",
       "    </tr>\n",
       "    <tr>\n",
       "      <th>4</th>\n",
       "      <td>2</td>\n",
       "      <td>1</td>\n",
       "      <td>1</td>\n",
       "      <td>returned home</td>\n",
       "      <td>21/06/2020</td>\n",
       "      <td>NaN</td>\n",
       "      <td>2.0</td>\n",
       "      <td>68</td>\n",
       "      <td>NaN</td>\n",
       "      <td>1.0</td>\n",
       "      <td>...</td>\n",
       "      <td>2.0</td>\n",
       "      <td>2.0</td>\n",
       "      <td>1.0</td>\n",
       "      <td>2.0</td>\n",
       "      <td>2.0</td>\n",
       "      <td>2.0</td>\n",
       "      <td>2.0</td>\n",
       "      <td>2.0</td>\n",
       "      <td>3</td>\n",
       "      <td>NaN</td>\n",
       "    </tr>\n",
       "  </tbody>\n",
       "</table>\n",
       "<p>5 rows × 21 columns</p>\n",
       "</div>"
      ],
      "text/plain": [
       "   USMER  MEDICAL_UNIT  SEX     PATIENT_TYPE   DATE_DIED  INTUBED  PNEUMONIA  \\\n",
       "0      2             1    0    returned home  03/05/2020      NaN        1.0   \n",
       "1      2             1    1    returned home  03/06/2020      NaN        1.0   \n",
       "2      2             1    1  hospitalization  09/06/2020      1.0        2.0   \n",
       "3      2             1    0    returned home  12/06/2020      NaN        2.0   \n",
       "4      2             1    1    returned home  21/06/2020      NaN        2.0   \n",
       "\n",
       "   AGE  PREGNANT  DIABETES  ...  ASTHMA  INMSUPR  HIPERTENSION  OTHER_DISEASE  \\\n",
       "0   65       2.0       2.0  ...     2.0      2.0           1.0            2.0   \n",
       "1   72       NaN       2.0  ...     2.0      2.0           1.0            2.0   \n",
       "2   55       NaN       1.0  ...     2.0      2.0           2.0            2.0   \n",
       "3   53       2.0       2.0  ...     2.0      2.0           2.0            2.0   \n",
       "4   68       NaN       1.0  ...     2.0      2.0           1.0            2.0   \n",
       "\n",
       "   CARDIOVASCULAR  OBESITY  RENAL_CHRONIC  TOBACCO  CLASIFFICATION_FINAL  ICU  \n",
       "0             2.0      2.0            2.0      2.0                     3  NaN  \n",
       "1             2.0      1.0            1.0      2.0                     5  NaN  \n",
       "2             2.0      2.0            2.0      2.0                     3  2.0  \n",
       "3             2.0      2.0            2.0      2.0                     7  NaN  \n",
       "4             2.0      2.0            2.0      2.0                     3  NaN  \n",
       "\n",
       "[5 rows x 21 columns]"
      ]
     },
     "execution_count": 10,
     "metadata": {},
     "output_type": "execute_result"
    }
   ],
   "source": [
    "df.head()"
   ]
  },
  {
   "cell_type": "code",
   "execution_count": 11,
   "id": "5c81861c",
   "metadata": {},
   "outputs": [
    {
     "data": {
      "text/plain": [
       "array(['returned home', 'hospitalization'], dtype=object)"
      ]
     },
     "execution_count": 11,
     "metadata": {},
     "output_type": "execute_result"
    }
   ],
   "source": [
    "ptype_values = df['PATIENT_TYPE'].unique()\n",
    "ptype_values"
   ]
  },
  {
   "cell_type": "markdown",
   "id": "b744075f",
   "metadata": {},
   "source": [
    "### Change 'PATIENT_TYPE' to numerical value"
   ]
  },
  {
   "cell_type": "code",
   "execution_count": 12,
   "id": "57e48086",
   "metadata": {},
   "outputs": [],
   "source": [
    "ptype_mapping = {\n",
    "    'returned home': 0,\n",
    "    'hospitalization': 1\n",
    "}"
   ]
  },
  {
   "cell_type": "code",
   "execution_count": 13,
   "id": "489729ab",
   "metadata": {},
   "outputs": [],
   "source": [
    "df['PATIENT_TYPE'] = df['PATIENT_TYPE'].map(ptype_mapping)"
   ]
  },
  {
   "cell_type": "code",
   "execution_count": 14,
   "id": "e4a397ce",
   "metadata": {},
   "outputs": [
    {
     "data": {
      "text/html": [
       "<div>\n",
       "<style scoped>\n",
       "    .dataframe tbody tr th:only-of-type {\n",
       "        vertical-align: middle;\n",
       "    }\n",
       "\n",
       "    .dataframe tbody tr th {\n",
       "        vertical-align: top;\n",
       "    }\n",
       "\n",
       "    .dataframe thead th {\n",
       "        text-align: right;\n",
       "    }\n",
       "</style>\n",
       "<table border=\"1\" class=\"dataframe\">\n",
       "  <thead>\n",
       "    <tr style=\"text-align: right;\">\n",
       "      <th></th>\n",
       "      <th>USMER</th>\n",
       "      <th>MEDICAL_UNIT</th>\n",
       "      <th>SEX</th>\n",
       "      <th>PATIENT_TYPE</th>\n",
       "      <th>DATE_DIED</th>\n",
       "      <th>INTUBED</th>\n",
       "      <th>PNEUMONIA</th>\n",
       "      <th>AGE</th>\n",
       "      <th>PREGNANT</th>\n",
       "      <th>DIABETES</th>\n",
       "      <th>...</th>\n",
       "      <th>ASTHMA</th>\n",
       "      <th>INMSUPR</th>\n",
       "      <th>HIPERTENSION</th>\n",
       "      <th>OTHER_DISEASE</th>\n",
       "      <th>CARDIOVASCULAR</th>\n",
       "      <th>OBESITY</th>\n",
       "      <th>RENAL_CHRONIC</th>\n",
       "      <th>TOBACCO</th>\n",
       "      <th>CLASIFFICATION_FINAL</th>\n",
       "      <th>ICU</th>\n",
       "    </tr>\n",
       "  </thead>\n",
       "  <tbody>\n",
       "    <tr>\n",
       "      <th>0</th>\n",
       "      <td>2</td>\n",
       "      <td>1</td>\n",
       "      <td>0</td>\n",
       "      <td>0</td>\n",
       "      <td>03/05/2020</td>\n",
       "      <td>NaN</td>\n",
       "      <td>1.0</td>\n",
       "      <td>65</td>\n",
       "      <td>2.0</td>\n",
       "      <td>2.0</td>\n",
       "      <td>...</td>\n",
       "      <td>2.0</td>\n",
       "      <td>2.0</td>\n",
       "      <td>1.0</td>\n",
       "      <td>2.0</td>\n",
       "      <td>2.0</td>\n",
       "      <td>2.0</td>\n",
       "      <td>2.0</td>\n",
       "      <td>2.0</td>\n",
       "      <td>3</td>\n",
       "      <td>NaN</td>\n",
       "    </tr>\n",
       "    <tr>\n",
       "      <th>1</th>\n",
       "      <td>2</td>\n",
       "      <td>1</td>\n",
       "      <td>1</td>\n",
       "      <td>0</td>\n",
       "      <td>03/06/2020</td>\n",
       "      <td>NaN</td>\n",
       "      <td>1.0</td>\n",
       "      <td>72</td>\n",
       "      <td>NaN</td>\n",
       "      <td>2.0</td>\n",
       "      <td>...</td>\n",
       "      <td>2.0</td>\n",
       "      <td>2.0</td>\n",
       "      <td>1.0</td>\n",
       "      <td>2.0</td>\n",
       "      <td>2.0</td>\n",
       "      <td>1.0</td>\n",
       "      <td>1.0</td>\n",
       "      <td>2.0</td>\n",
       "      <td>5</td>\n",
       "      <td>NaN</td>\n",
       "    </tr>\n",
       "    <tr>\n",
       "      <th>2</th>\n",
       "      <td>2</td>\n",
       "      <td>1</td>\n",
       "      <td>1</td>\n",
       "      <td>1</td>\n",
       "      <td>09/06/2020</td>\n",
       "      <td>1.0</td>\n",
       "      <td>2.0</td>\n",
       "      <td>55</td>\n",
       "      <td>NaN</td>\n",
       "      <td>1.0</td>\n",
       "      <td>...</td>\n",
       "      <td>2.0</td>\n",
       "      <td>2.0</td>\n",
       "      <td>2.0</td>\n",
       "      <td>2.0</td>\n",
       "      <td>2.0</td>\n",
       "      <td>2.0</td>\n",
       "      <td>2.0</td>\n",
       "      <td>2.0</td>\n",
       "      <td>3</td>\n",
       "      <td>2.0</td>\n",
       "    </tr>\n",
       "    <tr>\n",
       "      <th>3</th>\n",
       "      <td>2</td>\n",
       "      <td>1</td>\n",
       "      <td>0</td>\n",
       "      <td>0</td>\n",
       "      <td>12/06/2020</td>\n",
       "      <td>NaN</td>\n",
       "      <td>2.0</td>\n",
       "      <td>53</td>\n",
       "      <td>2.0</td>\n",
       "      <td>2.0</td>\n",
       "      <td>...</td>\n",
       "      <td>2.0</td>\n",
       "      <td>2.0</td>\n",
       "      <td>2.0</td>\n",
       "      <td>2.0</td>\n",
       "      <td>2.0</td>\n",
       "      <td>2.0</td>\n",
       "      <td>2.0</td>\n",
       "      <td>2.0</td>\n",
       "      <td>7</td>\n",
       "      <td>NaN</td>\n",
       "    </tr>\n",
       "    <tr>\n",
       "      <th>4</th>\n",
       "      <td>2</td>\n",
       "      <td>1</td>\n",
       "      <td>1</td>\n",
       "      <td>0</td>\n",
       "      <td>21/06/2020</td>\n",
       "      <td>NaN</td>\n",
       "      <td>2.0</td>\n",
       "      <td>68</td>\n",
       "      <td>NaN</td>\n",
       "      <td>1.0</td>\n",
       "      <td>...</td>\n",
       "      <td>2.0</td>\n",
       "      <td>2.0</td>\n",
       "      <td>1.0</td>\n",
       "      <td>2.0</td>\n",
       "      <td>2.0</td>\n",
       "      <td>2.0</td>\n",
       "      <td>2.0</td>\n",
       "      <td>2.0</td>\n",
       "      <td>3</td>\n",
       "      <td>NaN</td>\n",
       "    </tr>\n",
       "  </tbody>\n",
       "</table>\n",
       "<p>5 rows × 21 columns</p>\n",
       "</div>"
      ],
      "text/plain": [
       "   USMER  MEDICAL_UNIT  SEX  PATIENT_TYPE   DATE_DIED  INTUBED  PNEUMONIA  \\\n",
       "0      2             1    0             0  03/05/2020      NaN        1.0   \n",
       "1      2             1    1             0  03/06/2020      NaN        1.0   \n",
       "2      2             1    1             1  09/06/2020      1.0        2.0   \n",
       "3      2             1    0             0  12/06/2020      NaN        2.0   \n",
       "4      2             1    1             0  21/06/2020      NaN        2.0   \n",
       "\n",
       "   AGE  PREGNANT  DIABETES  ...  ASTHMA  INMSUPR  HIPERTENSION  OTHER_DISEASE  \\\n",
       "0   65       2.0       2.0  ...     2.0      2.0           1.0            2.0   \n",
       "1   72       NaN       2.0  ...     2.0      2.0           1.0            2.0   \n",
       "2   55       NaN       1.0  ...     2.0      2.0           2.0            2.0   \n",
       "3   53       2.0       2.0  ...     2.0      2.0           2.0            2.0   \n",
       "4   68       NaN       1.0  ...     2.0      2.0           1.0            2.0   \n",
       "\n",
       "   CARDIOVASCULAR  OBESITY  RENAL_CHRONIC  TOBACCO  CLASIFFICATION_FINAL  ICU  \n",
       "0             2.0      2.0            2.0      2.0                     3  NaN  \n",
       "1             2.0      1.0            1.0      2.0                     5  NaN  \n",
       "2             2.0      2.0            2.0      2.0                     3  2.0  \n",
       "3             2.0      2.0            2.0      2.0                     7  NaN  \n",
       "4             2.0      2.0            2.0      2.0                     3  NaN  \n",
       "\n",
       "[5 rows x 21 columns]"
      ]
     },
     "execution_count": 14,
     "metadata": {},
     "output_type": "execute_result"
    }
   ],
   "source": [
    "df.head()"
   ]
  },
  {
   "cell_type": "markdown",
   "id": "ee9099be",
   "metadata": {},
   "source": [
    "### Check NaN values"
   ]
  },
  {
   "cell_type": "code",
   "execution_count": 15,
   "id": "47067a1b",
   "metadata": {},
   "outputs": [
    {
     "data": {
      "text/plain": [
       "855869"
      ]
     },
     "execution_count": 15,
     "metadata": {},
     "output_type": "execute_result"
    }
   ],
   "source": [
    "NaN_intubed_count = df['INTUBED'].isna().sum()\n",
    "NaN_intubed_count"
   ]
  },
  {
   "cell_type": "code",
   "execution_count": 16,
   "id": "672f331f",
   "metadata": {},
   "outputs": [
    {
     "data": {
      "text/plain": [
       "16003"
      ]
     },
     "execution_count": 16,
     "metadata": {},
     "output_type": "execute_result"
    }
   ],
   "source": [
    "NaN_pneumonia_count = df['PNEUMONIA'].isna().sum()\n",
    "NaN_pneumonia_count"
   ]
  },
  {
   "cell_type": "code",
   "execution_count": 17,
   "id": "0cdc07b8",
   "metadata": {},
   "outputs": [
    {
     "data": {
      "text/plain": [
       "527265"
      ]
     },
     "execution_count": 17,
     "metadata": {},
     "output_type": "execute_result"
    }
   ],
   "source": [
    "NaN_pregnant_count = df['PREGNANT'].isna().sum()\n",
    "NaN_pregnant_count"
   ]
  },
  {
   "cell_type": "code",
   "execution_count": 18,
   "id": "d393bb00",
   "metadata": {},
   "outputs": [
    {
     "data": {
      "text/plain": [
       "3338"
      ]
     },
     "execution_count": 18,
     "metadata": {},
     "output_type": "execute_result"
    }
   ],
   "source": [
    "NaN_diabetes_count = df['DIABETES'].isna().sum()\n",
    "NaN_diabetes_count"
   ]
  },
  {
   "cell_type": "code",
   "execution_count": 19,
   "id": "b7910e56",
   "metadata": {},
   "outputs": [
    {
     "data": {
      "text/plain": [
       "0"
      ]
     },
     "execution_count": 19,
     "metadata": {},
     "output_type": "execute_result"
    }
   ],
   "source": [
    "NaN_sex_count = df['SEX'].isna().sum()\n",
    "NaN_sex_count"
   ]
  },
  {
   "cell_type": "code",
   "execution_count": 20,
   "id": "aab97bcd",
   "metadata": {
    "scrolled": true
   },
   "outputs": [
    {
     "data": {
      "text/plain": [
       "856032"
      ]
     },
     "execution_count": 20,
     "metadata": {},
     "output_type": "execute_result"
    }
   ],
   "source": [
    "NaN_icu_count = df['ICU'].isna().sum()\n",
    "NaN_icu_count"
   ]
  },
  {
   "cell_type": "code",
   "execution_count": 21,
   "id": "3c60266b",
   "metadata": {},
   "outputs": [
    {
     "data": {
      "text/plain": [
       "3338"
      ]
     },
     "execution_count": 21,
     "metadata": {},
     "output_type": "execute_result"
    }
   ],
   "source": [
    "NaN_diabetes_recount = df['DIABETES'].isna().sum()\n",
    "NaN_diabetes_recount"
   ]
  },
  {
   "cell_type": "code",
   "execution_count": 22,
   "id": "931c1b78",
   "metadata": {},
   "outputs": [
    {
     "data": {
      "text/plain": [
       "3003"
      ]
     },
     "execution_count": 22,
     "metadata": {},
     "output_type": "execute_result"
    }
   ],
   "source": [
    "NaN_copd_count = df['COPD'].isna().sum()\n",
    "NaN_copd_count"
   ]
  },
  {
   "cell_type": "code",
   "execution_count": 23,
   "id": "21552957",
   "metadata": {},
   "outputs": [
    {
     "data": {
      "text/plain": [
       "2979"
      ]
     },
     "execution_count": 23,
     "metadata": {},
     "output_type": "execute_result"
    }
   ],
   "source": [
    "NaN_asthma_count = df['ASTHMA'].isna().sum()\n",
    "NaN_asthma_count"
   ]
  },
  {
   "cell_type": "code",
   "execution_count": 24,
   "id": "8ddf3b90",
   "metadata": {},
   "outputs": [
    {
     "data": {
      "text/plain": [
       "3404"
      ]
     },
     "execution_count": 24,
     "metadata": {},
     "output_type": "execute_result"
    }
   ],
   "source": [
    "NaN_inmsupr_count = df['INMSUPR'].isna().sum()\n",
    "NaN_inmsupr_count"
   ]
  },
  {
   "cell_type": "code",
   "execution_count": 25,
   "id": "6bc974b9",
   "metadata": {},
   "outputs": [
    {
     "data": {
      "text/plain": [
       "3104"
      ]
     },
     "execution_count": 25,
     "metadata": {},
     "output_type": "execute_result"
    }
   ],
   "source": [
    "NaN_hipertension_count = df['HIPERTENSION'].isna().sum()\n",
    "NaN_hipertension_count"
   ]
  },
  {
   "cell_type": "code",
   "execution_count": 26,
   "id": "64f1c95c",
   "metadata": {},
   "outputs": [
    {
     "data": {
      "text/plain": [
       "5045"
      ]
     },
     "execution_count": 26,
     "metadata": {},
     "output_type": "execute_result"
    }
   ],
   "source": [
    "NaN_other_count = df['OTHER_DISEASE'].isna().sum()\n",
    "NaN_other_count"
   ]
  },
  {
   "cell_type": "code",
   "execution_count": 27,
   "id": "b14ad2b7",
   "metadata": {},
   "outputs": [
    {
     "data": {
      "text/plain": [
       "3076"
      ]
     },
     "execution_count": 27,
     "metadata": {},
     "output_type": "execute_result"
    }
   ],
   "source": [
    "NaN_cardio_count = df['CARDIOVASCULAR'].isna().sum()\n",
    "NaN_cardio_count"
   ]
  },
  {
   "cell_type": "code",
   "execution_count": 28,
   "id": "ddc56a02",
   "metadata": {},
   "outputs": [
    {
     "data": {
      "text/plain": [
       "3032"
      ]
     },
     "execution_count": 28,
     "metadata": {},
     "output_type": "execute_result"
    }
   ],
   "source": [
    "NaN_obs_count = df['OBESITY'].isna().sum()\n",
    "NaN_obs_count"
   ]
  },
  {
   "cell_type": "code",
   "execution_count": 29,
   "id": "aabf397d",
   "metadata": {},
   "outputs": [
    {
     "data": {
      "text/plain": [
       "3006"
      ]
     },
     "execution_count": 29,
     "metadata": {},
     "output_type": "execute_result"
    }
   ],
   "source": [
    "NaN_renal_count = df['RENAL_CHRONIC'].isna().sum()\n",
    "NaN_renal_count"
   ]
  },
  {
   "cell_type": "code",
   "execution_count": 30,
   "id": "c233fe02",
   "metadata": {},
   "outputs": [
    {
     "data": {
      "text/plain": [
       "3220"
      ]
     },
     "execution_count": 30,
     "metadata": {},
     "output_type": "execute_result"
    }
   ],
   "source": [
    "NaN_tobacco_count = df['TOBACCO'].isna().sum()\n",
    "NaN_tobacco_count"
   ]
  },
  {
   "cell_type": "code",
   "execution_count": 31,
   "id": "908e83b2",
   "metadata": {},
   "outputs": [
    {
     "data": {
      "text/plain": [
       "856032"
      ]
     },
     "execution_count": 31,
     "metadata": {},
     "output_type": "execute_result"
    }
   ],
   "source": [
    "NaN_icu_count = df['ICU'].isna().sum()\n",
    "NaN_icu_count"
   ]
  },
  {
   "cell_type": "code",
   "execution_count": 32,
   "id": "3c25cfc6",
   "metadata": {},
   "outputs": [
    {
     "data": {
      "text/plain": [
       "0"
      ]
     },
     "execution_count": 32,
     "metadata": {},
     "output_type": "execute_result"
    }
   ],
   "source": [
    "NaN_patient_count = df['PATIENT_TYPE'].isna().sum()\n",
    "NaN_patient_count"
   ]
  },
  {
   "cell_type": "code",
   "execution_count": 33,
   "id": "f02a9816",
   "metadata": {},
   "outputs": [
    {
     "data": {
      "text/plain": [
       "527265"
      ]
     },
     "execution_count": 33,
     "metadata": {},
     "output_type": "execute_result"
    }
   ],
   "source": [
    "NaN_pregnant_count = df['PREGNANT'].isna().sum()\n",
    "NaN_pregnant_count"
   ]
  },
  {
   "cell_type": "markdown",
   "id": "892590da",
   "metadata": {},
   "source": [
    "### Evaluate Values"
   ]
  },
  {
   "cell_type": "code",
   "execution_count": 34,
   "id": "6539fee3",
   "metadata": {},
   "outputs": [
    {
     "data": {
      "text/plain": [
       "array([ 2., nan,  1.])"
      ]
     },
     "execution_count": 34,
     "metadata": {},
     "output_type": "execute_result"
    }
   ],
   "source": [
    "pregnant_type = df['PREGNANT'].unique()\n",
    "pregnant_type"
   ]
  },
  {
   "cell_type": "code",
   "execution_count": 35,
   "id": "8e764470",
   "metadata": {},
   "outputs": [
    {
     "data": {
      "text/plain": [
       "array([nan,  2.,  1.])"
      ]
     },
     "execution_count": 35,
     "metadata": {},
     "output_type": "execute_result"
    }
   ],
   "source": [
    "icu_types = df['ICU'].unique()\n",
    "icu_types"
   ]
  },
  {
   "cell_type": "code",
   "execution_count": 36,
   "id": "f2b245a4",
   "metadata": {},
   "outputs": [
    {
     "data": {
      "text/plain": [
       "array([ 2.,  1., nan])"
      ]
     },
     "execution_count": 36,
     "metadata": {},
     "output_type": "execute_result"
    }
   ],
   "source": [
    "diabetes_types = df['DIABETES'].unique()\n",
    "diabetes_types"
   ]
  },
  {
   "cell_type": "code",
   "execution_count": 37,
   "id": "1cd09487",
   "metadata": {},
   "outputs": [
    {
     "data": {
      "text/plain": [
       "array([0, 1])"
      ]
     },
     "execution_count": 37,
     "metadata": {},
     "output_type": "execute_result"
    }
   ],
   "source": [
    "patient_types = df['PATIENT_TYPE'].unique()\n",
    "patient_types"
   ]
  },
  {
   "cell_type": "code",
   "execution_count": 38,
   "id": "f5663191",
   "metadata": {},
   "outputs": [
    {
     "data": {
      "text/plain": [
       "array([nan,  1.,  2.])"
      ]
     },
     "execution_count": 38,
     "metadata": {},
     "output_type": "execute_result"
    }
   ],
   "source": [
    "intube_types = df['INTUBED'].unique()\n",
    "intube_types"
   ]
  },
  {
   "cell_type": "code",
   "execution_count": 39,
   "id": "a715551c",
   "metadata": {},
   "outputs": [
    {
     "data": {
      "text/plain": [
       "array([ 2., nan,  1.])"
      ]
     },
     "execution_count": 39,
     "metadata": {},
     "output_type": "execute_result"
    }
   ],
   "source": [
    "pregnant_types = df['PREGNANT'].unique()\n",
    "pregnant_types"
   ]
  },
  {
   "cell_type": "code",
   "execution_count": 40,
   "id": "e8bed94a",
   "metadata": {},
   "outputs": [
    {
     "data": {
      "text/plain": [
       "array([0, 1])"
      ]
     },
     "execution_count": 40,
     "metadata": {},
     "output_type": "execute_result"
    }
   ],
   "source": [
    "patient_types = df['PATIENT_TYPE'].unique()\n",
    "patient_types"
   ]
  },
  {
   "cell_type": "markdown",
   "id": "21a44172",
   "metadata": {},
   "source": [
    "### Drop NaN Values"
   ]
  },
  {
   "cell_type": "code",
   "execution_count": 41,
   "id": "ccf7fe16",
   "metadata": {},
   "outputs": [],
   "source": [
    "def preprocess_data(df):\n",
    "    # Drop rows with NaN values\n",
    "    df_clean = df.dropna(subset=['USMER', 'MEDICAL_UNIT', 'SEX', 'PATIENT_TYPE', 'INTUBED', 'PNEUMONIA', 'AGE', 'PREGNANT',\n",
    "                                 'DIABETES', 'COPD', 'ASTHMA', 'INMSUPR', 'HIPERTENSION', 'OTHER_DISEASE',\n",
    "                                 'CARDIOVASCULAR', 'OBESITY', 'RENAL_CHRONIC', 'TOBACCO', 'DATE_DIED'])\n",
    "\n",
    "    # Convert 'DATE_DIED' to binary values\n",
    "    df_clean['DATE_DIED'] = df_clean['DATE_DIED'].apply(lambda x: 0 if x != '9999-99-99' else 1)\n",
    "\n",
    "    return df_clean"
   ]
  },
  {
   "cell_type": "markdown",
   "id": "86e8c5fc",
   "metadata": {},
   "source": [
    "## Imputation by IterativeImputer"
   ]
  },
  {
   "cell_type": "code",
   "execution_count": 42,
   "id": "ab263ef9",
   "metadata": {},
   "outputs": [],
   "source": [
    "imput = IterativeImputer()"
   ]
  },
  {
   "cell_type": "code",
   "execution_count": 43,
   "id": "7954a99d",
   "metadata": {},
   "outputs": [],
   "source": [
    "# Imputation on ICU\n",
    "missing_icu = df.columns[df.isnull().any() & df.columns.str.contains('ICU')]"
   ]
  },
  {
   "cell_type": "code",
   "execution_count": 44,
   "id": "2b226e6b",
   "metadata": {},
   "outputs": [],
   "source": [
    "df[missing_icu] = imput.fit_transform(df.loc[:,missing_icu])"
   ]
  },
  {
   "cell_type": "code",
   "execution_count": 45,
   "id": "6042cb8d",
   "metadata": {},
   "outputs": [],
   "source": [
    "# Imputation on Pregnant\n",
    "missing_pregnant = df.columns[df.isnull().any() & df.columns.str.contains('PREGNANT')]"
   ]
  },
  {
   "cell_type": "code",
   "execution_count": 46,
   "id": "8f1ce957",
   "metadata": {},
   "outputs": [],
   "source": [
    "df[missing_pregnant] = imput.fit_transform(df[missing_pregnant])"
   ]
  },
  {
   "cell_type": "code",
   "execution_count": 47,
   "id": "6d4b93b7",
   "metadata": {},
   "outputs": [],
   "source": [
    "# Imputation on Patient Type\n",
    "missing_intubed = df.columns[df.isnull().any() & df.columns.str.contains('INTUBED')]"
   ]
  },
  {
   "cell_type": "code",
   "execution_count": 48,
   "id": "36db85db",
   "metadata": {},
   "outputs": [],
   "source": [
    "df[missing_intubed] = imput.fit_transform(df[missing_intubed])"
   ]
  },
  {
   "cell_type": "code",
   "execution_count": 49,
   "id": "23cbc248",
   "metadata": {},
   "outputs": [],
   "source": [
    "df['DATE_DIED'] = df['DATE_DIED'].apply(lambda x: 0 if x != '9999-99-99' else 1)"
   ]
  },
  {
   "cell_type": "markdown",
   "id": "f6718b2e",
   "metadata": {},
   "source": [
    "## Data Visualization"
   ]
  },
  {
   "cell_type": "code",
   "execution_count": 50,
   "id": "be3c2d7e",
   "metadata": {},
   "outputs": [
    {
     "data": {
      "image/png": "[encoded data removed]",
      "text/plain": [
       "<Figure size 640x480 with 1 Axes>"
      ]
     },
     "metadata": {},
     "output_type": "display_data"
    }
   ],
   "source": [
    "plt.hist(df[\"AGE\"]);"
   ]
  },
  {
   "cell_type": "code",
   "execution_count": 51,
   "id": "8dea94fd",
   "metadata": {},
   "outputs": [
    {
     "data": {
      "image/png": "[encoded data removed]",
      "text/plain": [
       "<Figure size 640x480 with 1 Axes>"
      ]
     },
     "metadata": {},
     "output_type": "display_data"
    }
   ],
   "source": [
    "plt.hist(df[\"SEX\"]);"
   ]
  },
  {
   "cell_type": "code",
   "execution_count": 52,
   "id": "c8264026",
   "metadata": {},
   "outputs": [
    {
     "data": {
      "image/png": "[encoded data removed]",
      "text/plain": [
       "<Figure size 640x480 with 1 Axes>"
      ]
     },
     "metadata": {},
     "output_type": "display_data"
    }
   ],
   "source": [
    "plt.hist(df[\"ASTHMA\"]);"
   ]
  },
  {
   "cell_type": "code",
   "execution_count": 53,
   "id": "0de4d86e",
   "metadata": {},
   "outputs": [
    {
     "data": {
      "image/png": "[encoded data removed]",
      "text/plain": [
       "<Figure size 640x480 with 1 Axes>"
      ]
     },
     "metadata": {},
     "output_type": "display_data"
    }
   ],
   "source": [
    "plt.hist(df[\"CARDIOVASCULAR\"]);"
   ]
  },
  {
   "cell_type": "code",
   "execution_count": 54,
   "id": "0ae0c727",
   "metadata": {},
   "outputs": [
    {
     "data": {
      "image/png": "[encoded data removed]",
      "text/plain": [
       "<Figure size 640x480 with 1 Axes>"
      ]
     },
     "metadata": {},
     "output_type": "display_data"
    }
   ],
   "source": [
    "plt.hist(df[\"PATIENT_TYPE\"]);"
   ]
  },
  {
   "cell_type": "code",
   "execution_count": 55,
   "id": "1456414b",
   "metadata": {},
   "outputs": [
    {
     "data": {
      "image/png": "[encoded data removed]",
      "text/plain": [
       "<Figure size 640x480 with 1 Axes>"
      ]
     },
     "metadata": {},
     "output_type": "display_data"
    }
   ],
   "source": [
    "plt.hist(df[\"ICU\"]);"
   ]
  },
  {
   "cell_type": "code",
   "execution_count": 56,
   "id": "8e3e1708",
   "metadata": {},
   "outputs": [
    {
     "data": {
      "image/png": "[encoded data removed]",
      "text/plain": [
       "<Figure size 640x480 with 1 Axes>"
      ]
     },
     "metadata": {},
     "output_type": "display_data"
    }
   ],
   "source": [
    "plt.hist(df[\"CLASIFFICATION_FINAL\"]);"
   ]
  },
  {
   "cell_type": "code",
   "execution_count": 57,
   "id": "0e6bddd8",
   "metadata": {},
   "outputs": [
    {
     "data": {
      "image/png": "[encoded data removed]",
      "text/plain": [
       "<Figure size 640x480 with 1 Axes>"
      ]
     },
     "metadata": {},
     "output_type": "display_data"
    }
   ],
   "source": [
    "plt.hist(df[\"OTHER_DISEASE\"]);"
   ]
  },
  {
   "cell_type": "code",
   "execution_count": null,
   "id": "9d7a7868",
   "metadata": {
    "scrolled": false
   },
   "outputs": [],
   "source": [
    "# create heatmap\n",
    "f, ax = plt.subplots(figsize=[20,20])\n",
    "sns.heatmap(df.corr(), annot=True)\n",
    "plt.show()"
   ]
  },
  {
   "cell_type": "markdown",
   "id": "8030743a",
   "metadata": {},
   "source": [
    "### - Conclusion: There's a relationship between the usmer (level of medical unit treatment) and the admission of patients on icu (intensive care unit)"
   ]
  },
  {
   "cell_type": "markdown",
   "id": "3b3f11d7",
   "metadata": {},
   "source": [
    "## Classification"
   ]
  },
  {
   "cell_type": "code",
   "execution_count": null,
   "id": "cc98f263",
   "metadata": {},
   "outputs": [],
   "source": [
    "def train_random_forest(df):\n",
    "    X = df.drop(['DATE_DIED', 'SEX'], axis=1)\n",
    "    y = df['DATE_DIED']\n",
    "    \n",
    "    X_train, X_test, y_train, y_test = train_test_split(X, y, test_size=0.3, random_state=50, shuffle=True)\n",
    "    \n",
    "    rf = RandomForestClassifier(n_estimators=100, random_state=50)\n",
    "    rf.fit(X_train, y_train)\n",
    "    \n",
    "    rf_pred = rf.predict(X_test)\n",
    "    rf_score = accuracy_score(y_test, rf_pred)\n",
    "    rf_report = classification_report(y_test, rf_pred)\n",
    "    \n",
    "    cm = confusion_matrix(y_test, rf_pred)\n",
    "    plt.figure(figsize=(6, 4))\n",
    "    sns.heatmap(cm, annot=True, fmt=\".6g\")\n",
    "    plt.title('Confusion Matrix')\n",
    "    \n",
    "    return rf_score, rf_report"
   ]
  },
  {
   "cell_type": "code",
   "execution_count": 60,
   "id": "cce45a0d",
   "metadata": {},
   "outputs": [],
   "source": [
    "def train_xgboost(df):\n",
    "    X = df[['USMER', 'MEDICAL_UNIT', 'SEX', 'PATIENT_TYPE', 'INTUBED', 'PNEUMONIA', 'AGE', 'PREGNANT', 'DIABETES',\n",
    "            'COPD', 'ASTHMA', 'INMSUPR', 'HIPERTENSION', 'OTHER_DISEASE', 'CARDIOVASCULAR', 'OBESITY', 'RENAL_CHRONIC',\n",
    "            'TOBACCO']]\n",
    "    y = df['DATE_DIED']\n",
    "    \n",
    "    X_train, X_test, y_train, y_test = train_test_split(X, y, test_size=0.3, random_state=50, shuffle=True)\n",
    "    \n",
    "    xgb = XGBClassifier()\n",
    "    xgb.fit(X_train, y_train)\n",
    "    \n",
    "    xgb_pred = xgb.predict(X_test)\n",
    "    xgb_score = accuracy_score(y_test, xgb_pred)\n",
    "    xgb_report = classification_report(y_test, xgb_pred)\n",
    "    \n",
    "    return xgb_score, xgb_report"
   ]
  },
  {
   "cell_type": "code",
   "execution_count": 61,
   "id": "51e33fcc",
   "metadata": {},
   "outputs": [],
   "source": [
    "df_clean = preprocess_data(df)"
   ]
  },
  {
   "cell_type": "code",
   "execution_count": 62,
   "id": "4cf69783",
   "metadata": {},
   "outputs": [
    {
     "name": "stdout",
     "output_type": "stream",
     "text": [
      "Random Forest Accuracy: 1.0\n",
      "Random Forest Report:\n",
      "              precision    recall  f1-score   support\n",
      "\n",
      "           0       1.00      1.00      1.00    307546\n",
      "\n",
      "    accuracy                           1.00    307546\n",
      "   macro avg       1.00      1.00      1.00    307546\n",
      "weighted avg       1.00      1.00      1.00    307546\n",
      "\n"
     ]
    },
    {
     "data": {
      "image/png": "[encoded data removed]",
      "text/plain": [
       "<Figure size 600x400 with 2 Axes>"
      ]
     },
     "metadata": {},
     "output_type": "display_data"
    }
   ],
   "source": [
    "# Train and evaluate Random Forest model\n",
    "rf_score, rf_report = train_random_forest(df_clean)\n",
    "print(\"Random Forest Accuracy:\", rf_score)\n",
    "print(\"Random Forest Report:\")\n",
    "print(rf_report)"
   ]
  }
 ],
 "metadata": {
  "kernelspec": {
   "display_name": "Python 3 (ipykernel)",
   "language": "python",
   "name": "python3"
  },
  "language_info": {
   "codemirror_mode": {
    "name": "ipython",
    "version": 3
   },
   "file_extension": ".py",
   "mimetype": "text/x-python",
   "name": "python",
   "nbconvert_exporter": "python",
   "pygments_lexer": "ipython3",
   "version": "3.9.13"
  }
 },
 "nbformat": 4,
 "nbformat_minor": 5
}
